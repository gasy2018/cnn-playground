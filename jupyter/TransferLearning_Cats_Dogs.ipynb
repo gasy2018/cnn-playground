{
 "cells": [
  {
   "cell_type": "markdown",
   "metadata": {},
   "source": [
    "# Distinguish Photos of Cats and Dogs Using Transfer Learning\n",
    "\n",
    "**Goal:** Image Classification with a pre-trained ConvNet Model.\n",
    "\n",
    "Training, Analysis, and Optimization is done with Keras.\n",
    "\n",
    "Based on:\n",
    "  * [The Keras Blog: Building powerful image classification models using very little data](https://blog.keras.io/building-powerful-image-classification-models-using-very-little-data.html) by Francois Chollet, Sun 05 June 2016 - a detailed walkthrough.\n",
    "  \n",
    "See also:\n",
    "  * [Review of Deep Learning Algorithms for Object Detection](https://medium.com/comet-app/review-of-deep-learning-algorithms-for-object-detection-c1f3d437b852) by Arthur Ouaknine, 08 Feb 2018\n",
    "  * [Kernel Cats vs. Dogs](https://www.kaggle.com/shivamb/cnn-architectures-vgg-resnet-inception-tl)\n",
    "  * [Kernel Cats vs. Dogs](https://www.kaggle.com/jeffd23/catdognet-keras-convnet-starter)\n",
    "  * [Kernel Cats vs. Dogs](https://www.kaggle.com/sarvajna/dogs-vs-cats-keras-solution)\n",
    "  * [Kernel Dog Breeds](https://www.kaggle.com/gaborfodor/dog-breed-pretrained-keras-models-lb-0-3), very informative"
   ]
  },
  {
   "cell_type": "markdown",
   "metadata": {},
   "source": [
    "## Training Data\n",
    "\n",
    "Using the cats and dogs images from [Kaggle](https://www.kaggle.com/c/dogs-vs-cats-redux-kernels-edition/data)."
   ]
  },
  {
   "cell_type": "markdown",
   "metadata": {},
   "source": [
    "## Prepare Training Images\n",
    "\n",
    "Using Keras [ImageDataGenerator](https://keras.io/preprocessing/image/) to augment training images (gives more generalized model).\n",
    "\n",
    "Example Generator (not used for training):"
   ]
  },
  {
   "cell_type": "code",
   "execution_count": 1,
   "metadata": {},
   "outputs": [
    {
     "name": "stderr",
     "output_type": "stream",
     "text": [
      "Using TensorFlow backend.\n"
     ]
    }
   ],
   "source": [
    "from keras.preprocessing.image import ImageDataGenerator\n",
    "\n",
    "datagen = ImageDataGenerator(rotation_range=40,       # random image rotation (degrees)\n",
    "                             width_shift_range=0.2,   # fraction of width for random translation\n",
    "                             height_shift_range=0.2,  # fraction of height for random translation\n",
    "                             rescale=1./255,          # rescale RGB value to value between 0.0 and 1.0 (after all transformation)\n",
    "                             shear_range=0.2,         # shear intensity\n",
    "                             zoom_range=0.2,          # random zoom in image\n",
    "                             horizontal_flip=True,    # random flipping of image\n",
    "                             fill_mode='nearest')     # strategy for filling newly created pixel outside the original boundaries"
   ]
  },
  {
   "cell_type": "markdown",
   "metadata": {},
   "source": [
    "## Simple Sequential CNN"
   ]
  },
  {
   "cell_type": "code",
   "execution_count": 25,
   "metadata": {},
   "outputs": [
    {
     "name": "stdout",
     "output_type": "stream",
     "text": [
      "Keras 2.2.4\n",
      "TensorFlow 1.12.0\n"
     ]
    }
   ],
   "source": [
    "import keras\n",
    "print('Keras', keras.__version__)\n",
    "\n",
    "import tensorflow\n",
    "print('TensorFlow', tensorflow.__version__)"
   ]
  },
  {
   "cell_type": "code",
   "execution_count": 4,
   "metadata": {},
   "outputs": [],
   "source": [
    "from keras.models import Sequential\n",
    "from keras.layers import Conv2D, MaxPooling2D\n",
    "from keras.layers import Activation, Dropout, Flatten, Dense"
   ]
  },
  {
   "cell_type": "code",
   "execution_count": null,
   "metadata": {},
   "outputs": [],
   "source": [
    "# TODO: check how to distinguish tensorflow from theano\n",
    "#from keras import backend as K\n",
    "#K.set_image_dim_ordering('th')"
   ]
  },
  {
   "cell_type": "markdown",
   "metadata": {},
   "source": [
    "### Define Convolutional Layers for Image Feature Learning"
   ]
  },
  {
   "cell_type": "code",
   "execution_count": 26,
   "metadata": {},
   "outputs": [],
   "source": [
    "model = Sequential()\n",
    "model.add(Conv2D(32, (3, 3), input_shape=(150, 150, 3)))  # input_shape for Theano should be (3, 150,150)\n",
    "model.add(Activation('relu'))\n",
    "model.add(MaxPooling2D(pool_size=(2, 2)))\n",
    "\n",
    "model.add(Conv2D(32, (3, 3)))\n",
    "model.add(Activation('relu'))\n",
    "model.add(MaxPooling2D(pool_size=(2, 2)))\n",
    "\n",
    "model.add(Conv2D(64, (3, 3)))\n",
    "model.add(Activation('relu'))\n",
    "model.add(MaxPooling2D(pool_size=(2, 2)))"
   ]
  },
  {
   "cell_type": "code",
   "execution_count": 120,
   "metadata": {},
   "outputs": [
    {
     "name": "stdout",
     "output_type": "stream",
     "text": [
      "_________________________________________________________________\n",
      "Layer (type)                 Output Shape              Param #   \n",
      "=================================================================\n",
      "flatten_10 (Flatten)         (None, 8192)              0         \n",
      "_________________________________________________________________\n",
      "dense_20 (Dense)             (None, 256)               2097408   \n",
      "_________________________________________________________________\n",
      "dropout_11 (Dropout)         (None, 256)               0         \n",
      "_________________________________________________________________\n",
      "dense_21 (Dense)             (None, 1)                 257       \n",
      "=================================================================\n",
      "Total params: 2,097,665\n",
      "Trainable params: 2,097,665\n",
      "Non-trainable params: 0\n",
      "_________________________________________________________________\n",
      "None\n"
     ]
    }
   ],
   "source": [
    "print(model.summary())"
   ]
  },
  {
   "cell_type": "markdown",
   "metadata": {},
   "source": [
    "### Define Fully Connected Layers for Feature-based Classification"
   ]
  },
  {
   "cell_type": "code",
   "execution_count": 29,
   "metadata": {},
   "outputs": [],
   "source": [
    "model.add(Flatten())\n",
    "model.add(Dense(64))\n",
    "model.add(Activation('relu'))\n",
    "model.add(Dropout(0.5))\n",
    "model.add(Dense(1))\n",
    "model.add(Activation('sigmoid'))"
   ]
  },
  {
   "cell_type": "code",
   "execution_count": 30,
   "metadata": {},
   "outputs": [
    {
     "name": "stdout",
     "output_type": "stream",
     "text": [
      "_________________________________________________________________\n",
      "Layer (type)                 Output Shape              Param #   \n",
      "=================================================================\n",
      "conv2d_10 (Conv2D)           (None, 148, 148, 32)      896       \n",
      "_________________________________________________________________\n",
      "activation_9 (Activation)    (None, 148, 148, 32)      0         \n",
      "_________________________________________________________________\n",
      "max_pooling2d_7 (MaxPooling2 (None, 74, 74, 32)        0         \n",
      "_________________________________________________________________\n",
      "conv2d_11 (Conv2D)           (None, 72, 72, 32)        9248      \n",
      "_________________________________________________________________\n",
      "activation_10 (Activation)   (None, 72, 72, 32)        0         \n",
      "_________________________________________________________________\n",
      "max_pooling2d_8 (MaxPooling2 (None, 36, 36, 32)        0         \n",
      "_________________________________________________________________\n",
      "conv2d_12 (Conv2D)           (None, 34, 34, 64)        18496     \n",
      "_________________________________________________________________\n",
      "activation_11 (Activation)   (None, 34, 34, 64)        0         \n",
      "_________________________________________________________________\n",
      "max_pooling2d_9 (MaxPooling2 (None, 17, 17, 64)        0         \n",
      "_________________________________________________________________\n",
      "flatten_1 (Flatten)          (None, 18496)             0         \n",
      "_________________________________________________________________\n",
      "dense_1 (Dense)              (None, 64)                1183808   \n",
      "_________________________________________________________________\n",
      "activation_12 (Activation)   (None, 64)                0         \n",
      "_________________________________________________________________\n",
      "dropout_1 (Dropout)          (None, 64)                0         \n",
      "_________________________________________________________________\n",
      "dense_2 (Dense)              (None, 1)                 65        \n",
      "_________________________________________________________________\n",
      "activation_13 (Activation)   (None, 1)                 0         \n",
      "=================================================================\n",
      "Total params: 1,212,513\n",
      "Trainable params: 1,212,513\n",
      "Non-trainable params: 0\n",
      "_________________________________________________________________\n",
      "None\n"
     ]
    }
   ],
   "source": [
    "print(model.summary())"
   ]
  },
  {
   "cell_type": "code",
   "execution_count": 31,
   "metadata": {},
   "outputs": [],
   "source": [
    "model.compile(loss='binary_crossentropy', optimizer='rmsprop', metrics=['accuracy'])"
   ]
  },
  {
   "cell_type": "code",
   "execution_count": 35,
   "metadata": {},
   "outputs": [
    {
     "name": "stdout",
     "output_type": "stream",
     "text": [
      "Found 2000 images belonging to 2 classes.\n",
      "Found 800 images belonging to 2 classes.\n"
     ]
    }
   ],
   "source": [
    "batch_size=16\n",
    "\n",
    "train_datagen = ImageDataGenerator(\n",
    "        rescale=1./255,\n",
    "        shear_range=0.2,\n",
    "        zoom_range=0.2,\n",
    "        horizontal_flip=True)\n",
    "\n",
    "test_datagen = ImageDataGenerator(rescale=1./255)\n",
    "\n",
    "train_generator = train_datagen.flow_from_directory(\n",
    "        '../data/train',  # this is the target directory\n",
    "        target_size=(150, 150),  # all images will be resized to 150x150\n",
    "        batch_size=batch_size,\n",
    "        class_mode='binary')\n",
    "\n",
    "validation_generator = test_datagen.flow_from_directory(\n",
    "        '../data/validation',\n",
    "        target_size=(150, 150),\n",
    "        batch_size=batch_size,\n",
    "        class_mode='binary')"
   ]
  },
  {
   "cell_type": "code",
   "execution_count": 38,
   "metadata": {},
   "outputs": [
    {
     "name": "stdout",
     "output_type": "stream",
     "text": [
      "Epoch 1/50\n",
      "125/125 [==============================] - 71s 566ms/step - loss: 0.7080 - acc: 0.5050 - val_loss: 0.6833 - val_acc: 0.5000\n",
      "Epoch 2/50\n",
      "125/125 [==============================] - 73s 587ms/step - loss: 0.6863 - acc: 0.5490 - val_loss: 0.6690 - val_acc: 0.5900\n",
      "Epoch 3/50\n",
      "125/125 [==============================] - 74s 589ms/step - loss: 0.6681 - acc: 0.6215 - val_loss: 0.5930 - val_acc: 0.6987\n",
      "Epoch 4/50\n",
      "125/125 [==============================] - 74s 593ms/step - loss: 0.6308 - acc: 0.6455 - val_loss: 0.6057 - val_acc: 0.6913\n",
      "Epoch 5/50\n",
      "125/125 [==============================] - 75s 596ms/step - loss: 0.6095 - acc: 0.6695 - val_loss: 0.6390 - val_acc: 0.5775\n",
      "Epoch 6/50\n",
      "125/125 [==============================] - 75s 598ms/step - loss: 0.6062 - acc: 0.6630 - val_loss: 0.5744 - val_acc: 0.7188\n",
      "Epoch 7/50\n",
      "125/125 [==============================] - 75s 598ms/step - loss: 0.5847 - acc: 0.7095 - val_loss: 0.5613 - val_acc: 0.7163\n",
      "Epoch 8/50\n",
      "125/125 [==============================] - 75s 597ms/step - loss: 0.5644 - acc: 0.7090 - val_loss: 0.7201 - val_acc: 0.6038\n",
      "Epoch 9/50\n",
      "125/125 [==============================] - 75s 599ms/step - loss: 0.5654 - acc: 0.7245 - val_loss: 0.5855 - val_acc: 0.6800\n",
      "Epoch 10/50\n",
      "125/125 [==============================] - 75s 597ms/step - loss: 0.5399 - acc: 0.7315 - val_loss: 0.5578 - val_acc: 0.7200\n",
      "Epoch 11/50\n",
      "125/125 [==============================] - 75s 601ms/step - loss: 0.5237 - acc: 0.7485 - val_loss: 0.5683 - val_acc: 0.7025\n",
      "Epoch 12/50\n",
      "125/125 [==============================] - 75s 599ms/step - loss: 0.5236 - acc: 0.7510 - val_loss: 0.5371 - val_acc: 0.7362\n",
      "Epoch 13/50\n",
      "125/125 [==============================] - 76s 607ms/step - loss: 0.5156 - acc: 0.7485 - val_loss: 0.6666 - val_acc: 0.6837\n",
      "Epoch 14/50\n",
      "125/125 [==============================] - 75s 602ms/step - loss: 0.5027 - acc: 0.7645 - val_loss: 0.5381 - val_acc: 0.7300\n",
      "Epoch 15/50\n",
      "125/125 [==============================] - 75s 603ms/step - loss: 0.4824 - acc: 0.7805 - val_loss: 0.5078 - val_acc: 0.7500\n",
      "Epoch 16/50\n",
      "125/125 [==============================] - 75s 603ms/step - loss: 0.4862 - acc: 0.7780 - val_loss: 0.5524 - val_acc: 0.7400\n",
      "Epoch 17/50\n",
      "125/125 [==============================] - 76s 605ms/step - loss: 0.4855 - acc: 0.7815 - val_loss: 0.5540 - val_acc: 0.7412\n",
      "Epoch 18/50\n",
      "125/125 [==============================] - 76s 609ms/step - loss: 0.4780 - acc: 0.7915 - val_loss: 0.5120 - val_acc: 0.7625\n",
      "Epoch 19/50\n",
      "125/125 [==============================] - 76s 611ms/step - loss: 0.4696 - acc: 0.7895 - val_loss: 0.6175 - val_acc: 0.7300\n",
      "Epoch 20/50\n",
      "125/125 [==============================] - 76s 608ms/step - loss: 0.4559 - acc: 0.7920 - val_loss: 0.5996 - val_acc: 0.7037\n",
      "Epoch 21/50\n",
      "125/125 [==============================] - 76s 608ms/step - loss: 0.4605 - acc: 0.7990 - val_loss: 0.5543 - val_acc: 0.7625\n",
      "Epoch 22/50\n",
      "125/125 [==============================] - 76s 611ms/step - loss: 0.4630 - acc: 0.8040 - val_loss: 0.5392 - val_acc: 0.7625\n",
      "Epoch 23/50\n",
      "125/125 [==============================] - 76s 612ms/step - loss: 0.4488 - acc: 0.8085 - val_loss: 0.4909 - val_acc: 0.7700\n",
      "Epoch 24/50\n",
      "125/125 [==============================] - 77s 614ms/step - loss: 0.4386 - acc: 0.8150 - val_loss: 0.5903 - val_acc: 0.7175\n",
      "Epoch 25/50\n",
      "125/125 [==============================] - 78s 622ms/step - loss: 0.4351 - acc: 0.7925 - val_loss: 0.6302 - val_acc: 0.7275\n",
      "Epoch 26/50\n",
      "125/125 [==============================] - 77s 613ms/step - loss: 0.4397 - acc: 0.8065 - val_loss: 0.5011 - val_acc: 0.7725\n",
      "Epoch 27/50\n",
      "125/125 [==============================] - 77s 617ms/step - loss: 0.4221 - acc: 0.8200 - val_loss: 0.5850 - val_acc: 0.7625\n",
      "Epoch 28/50\n",
      "125/125 [==============================] - 77s 615ms/step - loss: 0.4176 - acc: 0.8240 - val_loss: 0.5368 - val_acc: 0.7712\n",
      "Epoch 29/50\n",
      "125/125 [==============================] - 77s 615ms/step - loss: 0.4437 - acc: 0.8115 - val_loss: 0.6010 - val_acc: 0.7475\n",
      "Epoch 30/50\n",
      "125/125 [==============================] - 77s 616ms/step - loss: 0.4318 - acc: 0.8135 - val_loss: 0.5335 - val_acc: 0.7650\n",
      "Epoch 31/50\n",
      "125/125 [==============================] - 78s 621ms/step - loss: 0.4372 - acc: 0.8230 - val_loss: 0.5459 - val_acc: 0.7625\n",
      "Epoch 32/50\n",
      "125/125 [==============================] - 78s 621ms/step - loss: 0.4306 - acc: 0.8170 - val_loss: 0.5381 - val_acc: 0.7538\n",
      "Epoch 33/50\n",
      "125/125 [==============================] - 79s 634ms/step - loss: 0.4169 - acc: 0.8205 - val_loss: 0.6572 - val_acc: 0.7612\n",
      "Epoch 34/50\n",
      "125/125 [==============================] - 84s 670ms/step - loss: 0.4109 - acc: 0.8075 - val_loss: 0.5775 - val_acc: 0.7688\n",
      "Epoch 35/50\n",
      "125/125 [==============================] - 79s 628ms/step - loss: 0.4258 - acc: 0.8175 - val_loss: 0.5361 - val_acc: 0.7662\n",
      "Epoch 36/50\n",
      "125/125 [==============================] - 76s 610ms/step - loss: 0.4350 - acc: 0.8155 - val_loss: 0.6001 - val_acc: 0.7575\n",
      "Epoch 37/50\n",
      "125/125 [==============================] - 82s 653ms/step - loss: 0.4222 - acc: 0.8105 - val_loss: 0.5540 - val_acc: 0.7812\n",
      "Epoch 38/50\n",
      "125/125 [==============================] - 83s 661ms/step - loss: 0.4218 - acc: 0.8250 - val_loss: 0.5241 - val_acc: 0.7425\n",
      "Epoch 39/50\n",
      "125/125 [==============================] - 80s 641ms/step - loss: 0.4430 - acc: 0.8120 - val_loss: 0.5926 - val_acc: 0.7125\n",
      "Epoch 40/50\n",
      "125/125 [==============================] - 79s 634ms/step - loss: 0.4098 - acc: 0.8085 - val_loss: 0.6360 - val_acc: 0.7550\n",
      "Epoch 41/50\n",
      "125/125 [==============================] - 78s 622ms/step - loss: 0.4053 - acc: 0.8290 - val_loss: 0.5657 - val_acc: 0.7600\n",
      "Epoch 42/50\n",
      "125/125 [==============================] - 77s 612ms/step - loss: 0.4134 - acc: 0.8275 - val_loss: 0.5207 - val_acc: 0.7588\n",
      "Epoch 43/50\n",
      "125/125 [==============================] - 76s 611ms/step - loss: 0.4049 - acc: 0.8235 - val_loss: 0.5318 - val_acc: 0.7688\n",
      "Epoch 44/50\n",
      "125/125 [==============================] - 76s 612ms/step - loss: 0.4168 - acc: 0.8285 - val_loss: 0.5297 - val_acc: 0.7762\n",
      "Epoch 45/50\n",
      "125/125 [==============================] - 77s 614ms/step - loss: 0.4429 - acc: 0.8150 - val_loss: 0.6299 - val_acc: 0.7837\n",
      "Epoch 46/50\n",
      "125/125 [==============================] - 77s 612ms/step - loss: 0.4218 - acc: 0.8135 - val_loss: 0.5849 - val_acc: 0.7675\n",
      "Epoch 47/50\n",
      "125/125 [==============================] - 76s 612ms/step - loss: 0.4142 - acc: 0.8390 - val_loss: 0.5439 - val_acc: 0.7837\n",
      "Epoch 48/50\n",
      "125/125 [==============================] - 77s 613ms/step - loss: 0.4160 - acc: 0.8260 - val_loss: 0.5379 - val_acc: 0.7775\n",
      "Epoch 49/50\n",
      "125/125 [==============================] - 77s 613ms/step - loss: 0.4234 - acc: 0.8175 - val_loss: 0.5736 - val_acc: 0.7775\n",
      "Epoch 50/50\n",
      "125/125 [==============================] - 77s 612ms/step - loss: 0.4281 - acc: 0.8260 - val_loss: 0.5001 - val_acc: 0.7975\n",
      "3827.80904173851\n"
     ]
    }
   ],
   "source": [
    "import time\n",
    "start_time = time.time()\n",
    "\n",
    "model.fit_generator(\n",
    "        train_generator,\n",
    "        steps_per_epoch=2000 // batch_size,\n",
    "        epochs=50,\n",
    "        validation_data=validation_generator,\n",
    "        validation_steps=800 // batch_size)\n",
    "model.save_weights('first_try.h5')  # always save your weights after training or during training\n",
    "\n",
    "print(time.time() - start_time)"
   ]
  },
  {
   "cell_type": "markdown",
   "metadata": {},
   "source": [
    "## Use pre-trained VGG16 to compute images features from bottleneck layer"
   ]
  },
  {
   "cell_type": "code",
   "execution_count": 158,
   "metadata": {},
   "outputs": [],
   "source": [
    "from keras.applications.vgg16 import VGG16\n",
    "\n",
    "model_vgg16 = VGG16(include_top=False, weights='imagenet')"
   ]
  },
  {
   "cell_type": "code",
   "execution_count": 159,
   "metadata": {},
   "outputs": [
    {
     "name": "stdout",
     "output_type": "stream",
     "text": [
      "_________________________________________________________________\n",
      "Layer (type)                 Output Shape              Param #   \n",
      "=================================================================\n",
      "input_10 (InputLayer)        (None, None, None, 3)     0         \n",
      "_________________________________________________________________\n",
      "block1_conv1 (Conv2D)        (None, None, None, 64)    1792      \n",
      "_________________________________________________________________\n",
      "block1_conv2 (Conv2D)        (None, None, None, 64)    36928     \n",
      "_________________________________________________________________\n",
      "block1_pool (MaxPooling2D)   (None, None, None, 64)    0         \n",
      "_________________________________________________________________\n",
      "block2_conv1 (Conv2D)        (None, None, None, 128)   73856     \n",
      "_________________________________________________________________\n",
      "block2_conv2 (Conv2D)        (None, None, None, 128)   147584    \n",
      "_________________________________________________________________\n",
      "block2_pool (MaxPooling2D)   (None, None, None, 128)   0         \n",
      "_________________________________________________________________\n",
      "block3_conv1 (Conv2D)        (None, None, None, 256)   295168    \n",
      "_________________________________________________________________\n",
      "block3_conv2 (Conv2D)        (None, None, None, 256)   590080    \n",
      "_________________________________________________________________\n",
      "block3_conv3 (Conv2D)        (None, None, None, 256)   590080    \n",
      "_________________________________________________________________\n",
      "block3_pool (MaxPooling2D)   (None, None, None, 256)   0         \n",
      "_________________________________________________________________\n",
      "block4_conv1 (Conv2D)        (None, None, None, 512)   1180160   \n",
      "_________________________________________________________________\n",
      "block4_conv2 (Conv2D)        (None, None, None, 512)   2359808   \n",
      "_________________________________________________________________\n",
      "block4_conv3 (Conv2D)        (None, None, None, 512)   2359808   \n",
      "_________________________________________________________________\n",
      "block4_pool (MaxPooling2D)   (None, None, None, 512)   0         \n",
      "_________________________________________________________________\n",
      "block5_conv1 (Conv2D)        (None, None, None, 512)   2359808   \n",
      "_________________________________________________________________\n",
      "block5_conv2 (Conv2D)        (None, None, None, 512)   2359808   \n",
      "_________________________________________________________________\n",
      "block5_conv3 (Conv2D)        (None, None, None, 512)   2359808   \n",
      "_________________________________________________________________\n",
      "block5_pool (MaxPooling2D)   (None, None, None, 512)   0         \n",
      "=================================================================\n",
      "Total params: 14,714,688\n",
      "Trainable params: 14,714,688\n",
      "Non-trainable params: 0\n",
      "_________________________________________________________________\n",
      "None\n"
     ]
    }
   ],
   "source": [
    "print(model_vgg16.summary())"
   ]
  },
  {
   "cell_type": "code",
   "execution_count": 43,
   "metadata": {},
   "outputs": [
    {
     "name": "stdout",
     "output_type": "stream",
     "text": [
      "Found 2000 images belonging to 2 classes.\n"
     ]
    }
   ],
   "source": [
    "generator_train = datagen.flow_from_directory(\n",
    "        '../data/train',\n",
    "        target_size=(150, 150),\n",
    "        batch_size=batch_size,\n",
    "        class_mode=None,  # this means our generator will only yield batches of data, no labels\n",
    "        shuffle=False)"
   ]
  },
  {
   "cell_type": "code",
   "execution_count": 49,
   "metadata": {},
   "outputs": [],
   "source": [
    "start_time = time.time()\n",
    "train_img_vsm = model_vgg16.predict_generator(generator_train, 2000 // batch_size)\n",
    "print('took', time.time() - start_time)"
   ]
  },
  {
   "cell_type": "code",
   "execution_count": 50,
   "metadata": {},
   "outputs": [
    {
     "name": "stdout",
     "output_type": "stream",
     "text": [
      "<class 'numpy.ndarray'>\n",
      "(2000, 4, 4, 512)\n"
     ]
    }
   ],
   "source": [
    "print(type(train_img_vsm))\n",
    "print(train_img_vsm.shape)"
   ]
  },
  {
   "cell_type": "code",
   "execution_count": 53,
   "metadata": {},
   "outputs": [],
   "source": [
    "import numpy as np\n",
    "np.save(open('bottleneck_features_train.npy', 'wb'), train_img_vsm)"
   ]
  },
  {
   "cell_type": "code",
   "execution_count": 61,
   "metadata": {},
   "outputs": [],
   "source": [
    "def save_bottleneck_features(data_type, num_images, batch_size):\n",
    "    generator = datagen.flow_from_directory(\n",
    "        '../data/' + data_type,\n",
    "        target_size=(150, 150),\n",
    "        batch_size=batch_size,\n",
    "        class_mode=None,  # no labels\n",
    "        shuffle=False)\n",
    "    \n",
    "    start_time = time.time()\n",
    "    bottleneck_features = model_vgg16.predict_generator(generator, num_images // batch_size)\n",
    "    print('took', time.time() - start_time)\n",
    "    \n",
    "    np.save(open('bottleneck_features_'+data_type+'.npy', 'wb'), bottleneck_features)"
   ]
  },
  {
   "cell_type": "code",
   "execution_count": 62,
   "metadata": {},
   "outputs": [
    {
     "name": "stdout",
     "output_type": "stream",
     "text": [
      "Found 800 images belonging to 2 classes.\n",
      "took 203.61493349075317\n"
     ]
    }
   ],
   "source": [
    "save_bottleneck_features('validation', 800, batch_size)"
   ]
  },
  {
   "cell_type": "markdown",
   "metadata": {},
   "source": [
    "## Define Fully Connected Layers for classification and train with bottleneck features"
   ]
  },
  {
   "cell_type": "code",
   "execution_count": 141,
   "metadata": {},
   "outputs": [],
   "source": [
    "train_data = np.load(open('bottleneck_features_train.npy', 'rb'))\n",
    "train_labels = np.array([0] * 1000 + [1] * 1000)"
   ]
  },
  {
   "cell_type": "code",
   "execution_count": 142,
   "metadata": {},
   "outputs": [],
   "source": [
    "validation_data = np.load(open('bottleneck_features_validation.npy', 'rb'))\n",
    "validation_labels = np.array([0] * 400 + [1] * 400)"
   ]
  },
  {
   "cell_type": "code",
   "execution_count": 155,
   "metadata": {},
   "outputs": [
    {
     "name": "stdout",
     "output_type": "stream",
     "text": [
      "(4, 4, 512)\n"
     ]
    }
   ],
   "source": [
    "print(train_data.shape[1:])"
   ]
  },
  {
   "cell_type": "code",
   "execution_count": 160,
   "metadata": {},
   "outputs": [],
   "source": [
    "model = Sequential()\n",
    "model.add(Flatten(input_shape=train_data.shape[1:]))\n",
    "model.add(Dense(256, activation='relu'))\n",
    "model.add(Dropout(0.5))\n",
    "model.add(Dense(1, activation='sigmoid'))"
   ]
  },
  {
   "cell_type": "code",
   "execution_count": 161,
   "metadata": {},
   "outputs": [],
   "source": [
    "rmsprop = keras.optimizers.RMSprop(lr=0.001)\n",
    "\n",
    "model.compile(optimizer=rmsprop,\n",
    "              loss='binary_crossentropy',\n",
    "              metrics=['accuracy'])"
   ]
  },
  {
   "cell_type": "code",
   "execution_count": 162,
   "metadata": {},
   "outputs": [
    {
     "name": "stdout",
     "output_type": "stream",
     "text": [
      "Train on 2000 samples, validate on 800 samples\n",
      "Epoch 1/20\n",
      "2000/2000 [==============================] - 5s 3ms/step - loss: 1.2287 - acc: 0.6730 - val_loss: 0.5083 - val_acc: 0.7462\n",
      "Epoch 2/20\n",
      "2000/2000 [==============================] - 4s 2ms/step - loss: 0.4954 - acc: 0.7760 - val_loss: 0.4640 - val_acc: 0.7875\n",
      "Epoch 3/20\n",
      "2000/2000 [==============================] - 4s 2ms/step - loss: 0.4360 - acc: 0.8005 - val_loss: 0.5269 - val_acc: 0.7450\n",
      "Epoch 4/20\n",
      "2000/2000 [==============================] - 4s 2ms/step - loss: 0.3791 - acc: 0.8315 - val_loss: 0.5057 - val_acc: 0.7825\n",
      "Epoch 5/20\n",
      "2000/2000 [==============================] - 4s 2ms/step - loss: 0.3282 - acc: 0.8555 - val_loss: 0.4903 - val_acc: 0.7950\n",
      "Epoch 6/20\n",
      "2000/2000 [==============================] - 4s 2ms/step - loss: 0.2884 - acc: 0.8760 - val_loss: 0.4362 - val_acc: 0.8250\n",
      "Epoch 7/20\n",
      "2000/2000 [==============================] - 5s 2ms/step - loss: 0.2817 - acc: 0.8825 - val_loss: 0.4971 - val_acc: 0.8287\n",
      "Epoch 8/20\n",
      "2000/2000 [==============================] - 4s 2ms/step - loss: 0.2523 - acc: 0.9010 - val_loss: 0.4703 - val_acc: 0.8200\n",
      "Epoch 9/20\n",
      "2000/2000 [==============================] - 5s 2ms/step - loss: 0.2296 - acc: 0.9085 - val_loss: 0.4819 - val_acc: 0.8387\n",
      "Epoch 10/20\n",
      "2000/2000 [==============================] - 5s 2ms/step - loss: 0.1998 - acc: 0.9190 - val_loss: 0.5055 - val_acc: 0.8387\n",
      "Epoch 11/20\n",
      "2000/2000 [==============================] - 5s 2ms/step - loss: 0.1969 - acc: 0.9190 - val_loss: 0.4903 - val_acc: 0.8375\n",
      "Epoch 12/20\n",
      "2000/2000 [==============================] - 5s 2ms/step - loss: 0.1608 - acc: 0.9345 - val_loss: 0.5550 - val_acc: 0.8438\n",
      "Epoch 13/20\n",
      "2000/2000 [==============================] - 5s 2ms/step - loss: 0.1544 - acc: 0.9430 - val_loss: 0.6056 - val_acc: 0.8413\n",
      "Epoch 14/20\n",
      "2000/2000 [==============================] - 5s 2ms/step - loss: 0.1302 - acc: 0.9490 - val_loss: 0.6620 - val_acc: 0.8375\n",
      "Epoch 15/20\n",
      "2000/2000 [==============================] - 5s 2ms/step - loss: 0.1221 - acc: 0.9500 - val_loss: 0.6608 - val_acc: 0.8438\n",
      "Epoch 16/20\n",
      "2000/2000 [==============================] - 5s 2ms/step - loss: 0.1132 - acc: 0.9535 - val_loss: 0.7087 - val_acc: 0.8400\n",
      "Epoch 17/20\n",
      "2000/2000 [==============================] - 5s 2ms/step - loss: 0.1137 - acc: 0.9570 - val_loss: 0.6521 - val_acc: 0.8413\n",
      "Epoch 18/20\n",
      "2000/2000 [==============================] - 5s 2ms/step - loss: 0.1005 - acc: 0.9625 - val_loss: 0.6681 - val_acc: 0.8475\n",
      "Epoch 19/20\n",
      "2000/2000 [==============================] - 5s 2ms/step - loss: 0.0762 - acc: 0.9715 - val_loss: 0.7688 - val_acc: 0.8387\n",
      "Epoch 20/20\n",
      "2000/2000 [==============================] - 5s 2ms/step - loss: 0.0782 - acc: 0.9710 - val_loss: 0.7610 - val_acc: 0.8462\n",
      "--- took 1:33 minutes ---\n"
     ]
    }
   ],
   "source": [
    "start_time = time.time()\n",
    "history = model.fit(train_data, train_labels,\n",
    "                    epochs=20,\n",
    "                    batch_size=batch_size,\n",
    "                    validation_data=(validation_data, validation_labels))\n",
    "print(\"--- took %d:%.2d minutes ---\" % divmod(time.time() - start_time, 60))\n",
    "\n",
    "model.save_weights('bottleneck_fc_model.h5')"
   ]
  },
  {
   "cell_type": "markdown",
   "metadata": {},
   "source": [
    "# Training Visualization\n",
    "\n",
    "[Visualize accuracy and loss of training and validation data](https://keras.io/visualization/#training-history-visualization)"
   ]
  },
  {
   "cell_type": "code",
   "execution_count": 114,
   "metadata": {},
   "outputs": [],
   "source": [
    "import matplotlib.pyplot as plt"
   ]
  },
  {
   "cell_type": "code",
   "execution_count": 163,
   "metadata": {},
   "outputs": [
    {
     "data": {
      "image/png": "[encoded data removed]",
      "text/plain": [
       "<Figure size 432x288 with 1 Axes>"
      ]
     },
     "metadata": {
      "needs_background": "light"
     },
     "output_type": "display_data"
    },
    {
     "data": {
      "image/png": "[encoded data removed]",
      "text/plain": [
       "<Figure size 432x288 with 1 Axes>"
      ]
     },
     "metadata": {
      "needs_background": "light"
     },
     "output_type": "display_data"
    }
   ],
   "source": [
    "plt.plot(history.history['acc'], label='train')\n",
    "plt.plot(history.history['val_acc'], label='val')\n",
    "plt.title('Model Accuracy')\n",
    "plt.ylabel('Accuracy')\n",
    "plt.xlabel('Epoch')\n",
    "plt.legend(['Train', 'Test'])\n",
    "plt.show()\n",
    "\n",
    "plt.plot(history.history['loss'])\n",
    "plt.plot(history.history['val_loss'])\n",
    "plt.title('Model Loss')\n",
    "plt.ylabel('Loss')\n",
    "plt.ylabel('Epoch')\n",
    "plt.legend(['Train', 'Test'])\n",
    "plt.show()"
   ]
  },
  {
   "cell_type": "markdown",
   "metadata": {},
   "source": [
    "## Re-Train top-layer of VGG16\n",
    "\n",
    "**CAUTION**: original tutorial code does not work: https://github.com/keras-team/keras/issues/4040"
   ]
  },
  {
   "cell_type": "code",
   "execution_count": 172,
   "metadata": {},
   "outputs": [
    {
     "name": "stdout",
     "output_type": "stream",
     "text": [
      "_________________________________________________________________\n",
      "Layer (type)                 Output Shape              Param #   \n",
      "=================================================================\n",
      "input_12 (InputLayer)        (None, 150, 150, 3)       0         \n",
      "_________________________________________________________________\n",
      "block1_conv1 (Conv2D)        (None, 150, 150, 64)      1792      \n",
      "_________________________________________________________________\n",
      "block1_conv2 (Conv2D)        (None, 150, 150, 64)      36928     \n",
      "_________________________________________________________________\n",
      "block1_pool (MaxPooling2D)   (None, 75, 75, 64)        0         \n",
      "_________________________________________________________________\n",
      "block2_conv1 (Conv2D)        (None, 75, 75, 128)       73856     \n",
      "_________________________________________________________________\n",
      "block2_conv2 (Conv2D)        (None, 75, 75, 128)       147584    \n",
      "_________________________________________________________________\n",
      "block2_pool (MaxPooling2D)   (None, 37, 37, 128)       0         \n",
      "_________________________________________________________________\n",
      "block3_conv1 (Conv2D)        (None, 37, 37, 256)       295168    \n",
      "_________________________________________________________________\n",
      "block3_conv2 (Conv2D)        (None, 37, 37, 256)       590080    \n",
      "_________________________________________________________________\n",
      "block3_conv3 (Conv2D)        (None, 37, 37, 256)       590080    \n",
      "_________________________________________________________________\n",
      "block3_pool (MaxPooling2D)   (None, 18, 18, 256)       0         \n",
      "_________________________________________________________________\n",
      "block4_conv1 (Conv2D)        (None, 18, 18, 512)       1180160   \n",
      "_________________________________________________________________\n",
      "block4_conv2 (Conv2D)        (None, 18, 18, 512)       2359808   \n",
      "_________________________________________________________________\n",
      "block4_conv3 (Conv2D)        (None, 18, 18, 512)       2359808   \n",
      "_________________________________________________________________\n",
      "block4_pool (MaxPooling2D)   (None, 9, 9, 512)         0         \n",
      "_________________________________________________________________\n",
      "block5_conv1 (Conv2D)        (None, 9, 9, 512)         2359808   \n",
      "_________________________________________________________________\n",
      "block5_conv2 (Conv2D)        (None, 9, 9, 512)         2359808   \n",
      "_________________________________________________________________\n",
      "block5_conv3 (Conv2D)        (None, 9, 9, 512)         2359808   \n",
      "_________________________________________________________________\n",
      "block5_pool (MaxPooling2D)   (None, 4, 4, 512)         0         \n",
      "=================================================================\n",
      "Total params: 14,714,688\n",
      "Trainable params: 14,714,688\n",
      "Non-trainable params: 0\n",
      "_________________________________________________________________\n"
     ]
    }
   ],
   "source": [
    "from keras.layers import Input\n",
    "input_tensor = Input(shape=(150,150,3)) # need to define input, otherwise VGG16 dimensions are None\n",
    "model_vgg16_notop = VGG16(include_top=False, weights='imagenet', input_tensor=input_tensor)"
   ]
  },
  {
   "cell_type": "code",
   "execution_count": 173,
   "metadata": {},
   "outputs": [],
   "source": [
    "# build a classifier model to put on top of the convolutional model\n",
    "top_model = Sequential()\n",
    "top_model.add(Flatten(input_shape=train_data.shape[1:]))\n",
    "top_model.add(Dense(256, activation='relu'))\n",
    "top_model.add(Dropout(0.5))\n",
    "top_model.add(Dense(1, activation='sigmoid'))"
   ]
  },
  {
   "cell_type": "code",
   "execution_count": 174,
   "metadata": {},
   "outputs": [],
   "source": [
    "# note that it is necessary to start with a fully-trained\n",
    "# classifier, including the top classifier,\n",
    "# in order to successfully do fine-tuning\n",
    "top_model.load_weights('bottleneck_fc_model.h5')"
   ]
  },
  {
   "cell_type": "code",
   "execution_count": 189,
   "metadata": {},
   "outputs": [],
   "source": [
    "model_finetune = Sequential()\n",
    "\n",
    "for layer in model_vgg16_notop.layers:\n",
    "    model_finetune.add(layer)\n",
    "\n",
    "for layer in top_model.layers:\n",
    "    model_finetune.add(layer)\n",
    "\n",
    "# model_finetune.add(top_model)"
   ]
  },
  {
   "cell_type": "code",
   "execution_count": 190,
   "metadata": {},
   "outputs": [],
   "source": [
    "# add the model on top of the convolutional base\n",
    "# DOES NOT WORK\n",
    "# model_vgg16_notop.add(top_model)\n",
    "\n",
    "# set the first 15 layers (up to the last conv block)\n",
    "# to non-trainable (weights will not be updated)\n",
    "for layer in model_finetune.layers[:15]:\n",
    "    layer.trainable = False"
   ]
  },
  {
   "cell_type": "code",
   "execution_count": 178,
   "metadata": {},
   "outputs": [
    {
     "data": {
      "text/plain": [
       "keras.engine.training.Model"
      ]
     },
     "execution_count": 178,
     "metadata": {},
     "output_type": "execute_result"
    }
   ],
   "source": [
    "type(model_vgg16_notop)"
   ]
  },
  {
   "cell_type": "code",
   "execution_count": 191,
   "metadata": {},
   "outputs": [
    {
     "name": "stdout",
     "output_type": "stream",
     "text": [
      "0 <keras.layers.convolutional.Conv2D object at 0x7f22b3601048> False\n",
      "1 <keras.layers.convolutional.Conv2D object at 0x7f22b3601908> False\n",
      "2 <keras.layers.pooling.MaxPooling2D object at 0x7f22b36058d0> False\n",
      "3 <keras.layers.convolutional.Conv2D object at 0x7f22b3605da0> False\n",
      "4 <keras.layers.convolutional.Conv2D object at 0x7f22b360bb70> False\n",
      "5 <keras.layers.pooling.MaxPooling2D object at 0x7f22b3618668> False\n",
      "6 <keras.layers.convolutional.Conv2D object at 0x7f22b3618278> False\n",
      "7 <keras.layers.convolutional.Conv2D object at 0x7f22b35a4358> False\n",
      "8 <keras.layers.convolutional.Conv2D object at 0x7f22b35400f0> False\n",
      "9 <keras.layers.pooling.MaxPooling2D object at 0x7f22b355c588> False\n",
      "10 <keras.layers.convolutional.Conv2D object at 0x7f22b35781d0> False\n",
      "11 <keras.layers.convolutional.Conv2D object at 0x7f22b351b358> False\n",
      "12 <keras.layers.convolutional.Conv2D object at 0x7f22b35370f0> False\n",
      "13 <keras.layers.pooling.MaxPooling2D object at 0x7f22b34d3588> False\n",
      "14 <keras.layers.convolutional.Conv2D object at 0x7f22b34ef1d0> False\n",
      "15 <keras.layers.convolutional.Conv2D object at 0x7f22b3493358> True\n",
      "16 <keras.layers.convolutional.Conv2D object at 0x7f22b34b00f0> True\n",
      "17 <keras.layers.pooling.MaxPooling2D object at 0x7f22b344d978> True\n",
      "18 <keras.layers.core.Flatten object at 0x7f22b33b0588> True\n",
      "19 <keras.layers.core.Dense object at 0x7f22b3399080> True\n",
      "20 <keras.layers.core.Dropout object at 0x7f22b33f8860> True\n",
      "21 <keras.layers.core.Dense object at 0x7f22b3354390> True\n"
     ]
    }
   ],
   "source": [
    "for i, l in enumerate(model_finetune.layers):\n",
    "    print(i, l, l.trainable)"
   ]
  },
  {
   "cell_type": "code",
   "execution_count": 192,
   "metadata": {},
   "outputs": [
    {
     "name": "stdout",
     "output_type": "stream",
     "text": [
      "_________________________________________________________________\n",
      "Layer (type)                 Output Shape              Param #   \n",
      "=================================================================\n",
      "block1_conv1 (Conv2D)        (None, 150, 150, 64)      1792      \n",
      "_________________________________________________________________\n",
      "block1_conv2 (Conv2D)        (None, 150, 150, 64)      36928     \n",
      "_________________________________________________________________\n",
      "block1_pool (MaxPooling2D)   (None, 75, 75, 64)        0         \n",
      "_________________________________________________________________\n",
      "block2_conv1 (Conv2D)        (None, 75, 75, 128)       73856     \n",
      "_________________________________________________________________\n",
      "block2_conv2 (Conv2D)        (None, 75, 75, 128)       147584    \n",
      "_________________________________________________________________\n",
      "block2_pool (MaxPooling2D)   (None, 37, 37, 128)       0         \n",
      "_________________________________________________________________\n",
      "block3_conv1 (Conv2D)        (None, 37, 37, 256)       295168    \n",
      "_________________________________________________________________\n",
      "block3_conv2 (Conv2D)        (None, 37, 37, 256)       590080    \n",
      "_________________________________________________________________\n",
      "block3_conv3 (Conv2D)        (None, 37, 37, 256)       590080    \n",
      "_________________________________________________________________\n",
      "block3_pool (MaxPooling2D)   (None, 18, 18, 256)       0         \n",
      "_________________________________________________________________\n",
      "block4_conv1 (Conv2D)        (None, 18, 18, 512)       1180160   \n",
      "_________________________________________________________________\n",
      "block4_conv2 (Conv2D)        (None, 18, 18, 512)       2359808   \n",
      "_________________________________________________________________\n",
      "block4_conv3 (Conv2D)        (None, 18, 18, 512)       2359808   \n",
      "_________________________________________________________________\n",
      "block4_pool (MaxPooling2D)   (None, 9, 9, 512)         0         \n",
      "_________________________________________________________________\n",
      "block5_conv1 (Conv2D)        (None, 9, 9, 512)         2359808   \n",
      "_________________________________________________________________\n",
      "block5_conv2 (Conv2D)        (None, 9, 9, 512)         2359808   \n",
      "_________________________________________________________________\n",
      "block5_conv3 (Conv2D)        (None, 9, 9, 512)         2359808   \n",
      "_________________________________________________________________\n",
      "block5_pool (MaxPooling2D)   (None, 4, 4, 512)         0         \n",
      "_________________________________________________________________\n",
      "flatten_21 (Flatten)         (None, 8192)              0         \n",
      "_________________________________________________________________\n",
      "dense_40 (Dense)             (None, 256)               2097408   \n",
      "_________________________________________________________________\n",
      "dropout_17 (Dropout)         (None, 256)               0         \n",
      "_________________________________________________________________\n",
      "dense_41 (Dense)             (None, 1)                 257       \n",
      "=================================================================\n",
      "Total params: 16,812,353\n",
      "Trainable params: 6,817,281\n",
      "Non-trainable params: 9,995,072\n",
      "_________________________________________________________________\n"
     ]
    }
   ],
   "source": [
    "model_finetune.summary()"
   ]
  },
  {
   "cell_type": "code",
   "execution_count": 193,
   "metadata": {},
   "outputs": [],
   "source": [
    "# compile the model with a SGD/momentum optimizer\n",
    "# and a very slow learning rate.\n",
    "model_finetune.compile(loss='binary_crossentropy',\n",
    "                       optimizer=keras.optimizers.SGD(lr=1e-4, momentum=0.9),\n",
    "                       metrics=['accuracy'])"
   ]
  },
  {
   "cell_type": "code",
   "execution_count": 198,
   "metadata": {},
   "outputs": [
    {
     "name": "stdout",
     "output_type": "stream",
     "text": [
      "Found 2000 images belonging to 2 classes.\n",
      "Found 800 images belonging to 2 classes.\n",
      "Epoch 1/36\n",
      "125/125 [==============================] - 756s 6s/step - loss: 0.1731 - acc: 0.9380 - val_loss: 0.2257 - val_acc: 0.9250\n",
      "Epoch 2/36\n",
      "125/125 [==============================] - 759s 6s/step - loss: 0.1392 - acc: 0.9430 - val_loss: 0.2494 - val_acc: 0.9175\n",
      "Epoch 3/36\n",
      "125/125 [==============================] - 740s 6s/step - loss: 0.1288 - acc: 0.9500 - val_loss: 0.2614 - val_acc: 0.9175\n",
      "Epoch 4/36\n",
      "125/125 [==============================] - 725s 6s/step - loss: 0.1414 - acc: 0.9405 - val_loss: 0.2705 - val_acc: 0.9100\n",
      "Epoch 5/36\n",
      "125/125 [==============================] - 724s 6s/step - loss: 0.1204 - acc: 0.9490 - val_loss: 0.2422 - val_acc: 0.9237\n",
      "Epoch 6/36\n",
      "125/125 [==============================] - 724s 6s/step - loss: 0.0961 - acc: 0.9585 - val_loss: 0.2618 - val_acc: 0.9300\n",
      "Epoch 7/36\n",
      "125/125 [==============================] - 724s 6s/step - loss: 0.0973 - acc: 0.9625 - val_loss: 0.2978 - val_acc: 0.9150\n",
      "Epoch 8/36\n",
      "125/125 [==============================] - 723s 6s/step - loss: 0.0871 - acc: 0.9660 - val_loss: 0.2529 - val_acc: 0.9263\n",
      "Epoch 9/36\n",
      "125/125 [==============================] - 724s 6s/step - loss: 0.0776 - acc: 0.9720 - val_loss: 0.2277 - val_acc: 0.9337\n",
      "Epoch 10/36\n",
      "125/125 [==============================] - 724s 6s/step - loss: 0.0685 - acc: 0.9730 - val_loss: 0.2487 - val_acc: 0.9287\n",
      "Epoch 11/36\n",
      "125/125 [==============================] - 723s 6s/step - loss: 0.0598 - acc: 0.9770 - val_loss: 0.2443 - val_acc: 0.9313\n",
      "Epoch 12/36\n",
      "125/125 [==============================] - 724s 6s/step - loss: 0.0616 - acc: 0.9765 - val_loss: 0.2632 - val_acc: 0.9300\n",
      "Epoch 13/36\n",
      "125/125 [==============================] - 723s 6s/step - loss: 0.0592 - acc: 0.9800 - val_loss: 0.2494 - val_acc: 0.9225\n",
      "Epoch 14/36\n",
      "125/125 [==============================] - 725s 6s/step - loss: 0.0538 - acc: 0.9815 - val_loss: 0.2639 - val_acc: 0.9225\n",
      "Epoch 15/36\n",
      "125/125 [==============================] - 724s 6s/step - loss: 0.0540 - acc: 0.9810 - val_loss: 0.2668 - val_acc: 0.9313\n",
      "Epoch 16/36\n",
      "125/125 [==============================] - 723s 6s/step - loss: 0.0446 - acc: 0.9850 - val_loss: 0.2795 - val_acc: 0.9287\n",
      "Epoch 17/36\n",
      "125/125 [==============================] - 725s 6s/step - loss: 0.0418 - acc: 0.9855 - val_loss: 0.2793 - val_acc: 0.9287\n",
      "Epoch 18/36\n",
      "125/125 [==============================] - 723s 6s/step - loss: 0.0558 - acc: 0.9790 - val_loss: 0.3357 - val_acc: 0.9163\n",
      "Epoch 19/36\n",
      "125/125 [==============================] - 723s 6s/step - loss: 0.0279 - acc: 0.9915 - val_loss: 0.3220 - val_acc: 0.9300\n",
      "Epoch 20/36\n",
      "125/125 [==============================] - 723s 6s/step - loss: 0.0309 - acc: 0.9885 - val_loss: 0.2966 - val_acc: 0.9337\n",
      "Epoch 21/36\n",
      "125/125 [==============================] - 722s 6s/step - loss: 0.0291 - acc: 0.9910 - val_loss: 0.3059 - val_acc: 0.9413\n",
      "Epoch 22/36\n",
      "125/125 [==============================] - 724s 6s/step - loss: 0.0327 - acc: 0.9895 - val_loss: 0.3113 - val_acc: 0.9337\n",
      "Epoch 23/36\n",
      "125/125 [==============================] - 723s 6s/step - loss: 0.0322 - acc: 0.9915 - val_loss: 0.2729 - val_acc: 0.9350\n",
      "Epoch 24/36\n",
      "125/125 [==============================] - 724s 6s/step - loss: 0.0191 - acc: 0.9950 - val_loss: 0.3075 - val_acc: 0.9337\n",
      "Epoch 25/36\n",
      "125/125 [==============================] - 726s 6s/step - loss: 0.0283 - acc: 0.9910 - val_loss: 0.2857 - val_acc: 0.9313\n",
      "Epoch 26/36\n",
      "125/125 [==============================] - 724s 6s/step - loss: 0.0207 - acc: 0.9935 - val_loss: 0.3024 - val_acc: 0.9313\n",
      "Epoch 27/36\n",
      "125/125 [==============================] - 727s 6s/step - loss: 0.0333 - acc: 0.9880 - val_loss: 0.3210 - val_acc: 0.9287\n",
      "Epoch 28/36\n",
      "125/125 [==============================] - 726s 6s/step - loss: 0.0185 - acc: 0.9935 - val_loss: 0.2899 - val_acc: 0.9337\n",
      "Epoch 29/36\n",
      "125/125 [==============================] - 727s 6s/step - loss: 0.0135 - acc: 0.9945 - val_loss: 0.3559 - val_acc: 0.9287\n",
      "Epoch 30/36\n",
      "125/125 [==============================] - 726s 6s/step - loss: 0.0145 - acc: 0.9965 - val_loss: 0.3168 - val_acc: 0.9287\n",
      "Epoch 31/36\n",
      "125/125 [==============================] - 725s 6s/step - loss: 0.0096 - acc: 0.9975 - val_loss: 0.3311 - val_acc: 0.9250\n",
      "Epoch 32/36\n",
      "125/125 [==============================] - 725s 6s/step - loss: 0.0168 - acc: 0.9950 - val_loss: 0.2968 - val_acc: 0.9325\n",
      "Epoch 33/36\n",
      "125/125 [==============================] - 724s 6s/step - loss: 0.0157 - acc: 0.9950 - val_loss: 0.3523 - val_acc: 0.9313\n",
      "Epoch 34/36\n",
      "125/125 [==============================] - 725s 6s/step - loss: 0.0136 - acc: 0.9965 - val_loss: 0.3055 - val_acc: 0.9287\n",
      "Epoch 35/36\n",
      "125/125 [==============================] - 724s 6s/step - loss: 0.0099 - acc: 0.9970 - val_loss: 0.3346 - val_acc: 0.9275\n",
      "Epoch 36/36\n",
      "125/125 [==============================] - 725s 6s/step - loss: 0.0125 - acc: 0.9960 - val_loss: 0.3965 - val_acc: 0.9275\n",
      "--- took 435:54 minutes ---\n"
     ]
    }
   ],
   "source": [
    "batch_size = 16\n",
    "epochs = 36\n",
    "img_width, img_height = 150, 150\n",
    "train_data_dir = '../data/train'\n",
    "validation_data_dir = '../data/validation'\n",
    "nb_train_samples = 2000\n",
    "nb_validation_samples = 800\n",
    "\n",
    "# prepare data augmentation configuration\n",
    "train_datagen = ImageDataGenerator(\n",
    "        rescale=1./255,\n",
    "        shear_range=0.2,\n",
    "        zoom_range=0.2,\n",
    "        horizontal_flip=True)\n",
    "\n",
    "test_datagen = ImageDataGenerator(rescale=1./255)\n",
    "\n",
    "train_generator = train_datagen.flow_from_directory(\n",
    "        train_data_dir,\n",
    "        target_size=(img_height, img_width),\n",
    "        batch_size=batch_size,\n",
    "        class_mode='binary')\n",
    "\n",
    "validation_generator = test_datagen.flow_from_directory(\n",
    "        validation_data_dir,\n",
    "        target_size=(img_height, img_width),\n",
    "        batch_size=batch_size,\n",
    "        class_mode='binary')\n",
    "\n",
    "# fine-tune the model\n",
    "start_time = time.time()\n",
    "history2 = model_finetune.fit_generator(\n",
    "        train_generator,\n",
    "        steps_per_epoch=nb_train_samples // batch_size,\n",
    "        epochs=epochs,\n",
    "        validation_data=validation_generator,\n",
    "        validation_steps=nb_validation_samples // batch_size)\n",
    "print(\"--- took %d:%.2d minutes ---\" % divmod(time.time() - start_time, 60))"
   ]
  },
  {
   "cell_type": "code",
   "execution_count": 217,
   "metadata": {},
   "outputs": [],
   "source": [
    "model_finetune.save_weights('finetune_model.h5')"
   ]
  },
  {
   "cell_type": "code",
   "execution_count": 216,
   "metadata": {},
   "outputs": [
    {
     "data": {
      "image/png": "[encoded data removed]",
      "text/plain": [
       "<Figure size 432x288 with 1 Axes>"
      ]
     },
     "metadata": {
      "needs_background": "light"
     },
     "output_type": "display_data"
    },
    {
     "data": {
      "image/png": "[encoded data removed]",
      "text/plain": [
       "<Figure size 432x288 with 1 Axes>"
      ]
     },
     "metadata": {
      "needs_background": "light"
     },
     "output_type": "display_data"
    }
   ],
   "source": [
    "plt.plot(history.history['acc'], label='train')\n",
    "plt.plot(history.history['val_acc'], label='val')\n",
    "plt.title('Model Accuracy')\n",
    "plt.ylabel('Accuracy')\n",
    "plt.xlabel('Epoch')\n",
    "plt.legend(['Train', 'Test'])\n",
    "plt.show()\n",
    "\n",
    "plt.plot(history.history['loss'])\n",
    "plt.plot(history.history['val_loss'])\n",
    "plt.title('Model Loss')\n",
    "plt.ylabel('Loss')\n",
    "plt.ylabel('Epoch')\n",
    "plt.legend(['Train', 'Test'])\n",
    "plt.show()"
   ]
  }
 ],
 "metadata": {
  "kernelspec": {
   "display_name": "Python 3",
   "language": "python",
   "name": "python3"
  },
  "language_info": {
   "codemirror_mode": {
    "name": "ipython",
    "version": 3
   },
   "file_extension": ".py",
   "mimetype": "text/x-python",
   "name": "python",
   "nbconvert_exporter": "python",
   "pygments_lexer": "ipython3",
   "version": "3.6.7"
  }
 },
 "nbformat": 4,
 "nbformat_minor": 2
}
